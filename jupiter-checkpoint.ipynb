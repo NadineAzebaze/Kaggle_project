{
 "cells": [
  {
   "cell_type": "markdown",
   "id": "9cb62f35",
   "metadata": {},
   "source": [
    "## Kaggle challenge first delivery"
   ]
  },
  {
   "cell_type": "code",
   "execution_count": 1,
   "id": "288b61f0",
   "metadata": {},
   "outputs": [],
   "source": [
    "#https://www.kaggle.com/spencerpitts/european-hotel-reviews-r"
   ]
  },
  {
   "cell_type": "code",
   "execution_count": 2,
   "id": "dd23a6a4",
   "metadata": {},
   "outputs": [
    {
     "name": "stderr",
     "output_type": "stream",
     "text": [
      "WARNING: Rtools is required to build R packages, but is not currently installed.\n",
      "\n",
      "Please download and install Rtools 4.0 from https://cran.r-project.org/bin/windows/Rtools/.\n",
      "\n",
      "Skipping install of 'tidyverse' from a github remote, the SHA1 (6186fbf0) has not changed since last install.\n",
      "  Use `force = TRUE` to force installation\n",
      "\n",
      "Installation du package dans 'C:/Users/Utilisateur/Documents/R/win-library/4.1'\n",
      "(car 'lib' n'est pas spécifié)\n",
      "\n"
     ]
    },
    {
     "name": "stdout",
     "output_type": "stream",
     "text": [
      "package 'tidytext' successfully unpacked and MD5 sums checked\n",
      "\n",
      "The downloaded binary packages are in\n",
      "\tC:\\Users\\Utilisateur\\AppData\\Local\\Temp\\Rtmp25fsY7\\downloaded_packages\n"
     ]
    },
    {
     "name": "stderr",
     "output_type": "stream",
     "text": [
      "-- \u001b[1mAttaching packages\u001b[22m ---------------------------------- tidyverse 1.3.1.\u001b[31m9000\u001b[39m --\n",
      "\n",
      "\u001b[32mv\u001b[39m \u001b[34mggplot2\u001b[39m 3.3.5     \u001b[32mv\u001b[39m \u001b[34mpurrr  \u001b[39m 0.3.4\n",
      "\u001b[32mv\u001b[39m \u001b[34mtibble \u001b[39m 3.1.6     \u001b[32mv\u001b[39m \u001b[34mdplyr  \u001b[39m 1.0.8\n",
      "\u001b[32mv\u001b[39m \u001b[34mtidyr  \u001b[39m 1.2.0     \u001b[32mv\u001b[39m \u001b[34mstringr\u001b[39m 1.4.0\n",
      "\u001b[32mv\u001b[39m \u001b[34mreadr  \u001b[39m 2.1.2     \u001b[32mv\u001b[39m \u001b[34mforcats\u001b[39m 0.5.1\n",
      "\n",
      "-- \u001b[1mConflicts\u001b[22m ------------------------------------------ tidyverse_conflicts() --\n",
      "\u001b[31mx\u001b[39m \u001b[34mdplyr\u001b[39m::\u001b[32mfilter()\u001b[39m masks \u001b[34mstats\u001b[39m::filter()\n",
      "\u001b[31mx\u001b[39m \u001b[34mdplyr\u001b[39m::\u001b[32mlag()\u001b[39m    masks \u001b[34mstats\u001b[39m::lag()\n",
      "\n",
      "\n",
      "Attachement du package : 'lubridate'\n",
      "\n",
      "\n",
      "Les objets suivants sont masqués depuis 'package:base':\n",
      "\n",
      "    date, intersect, setdiff, union\n",
      "\n",
      "\n"
     ]
    }
   ],
   "source": [
    "devtools::install_github(\"hadley/tidyverse\")\n",
    "install.packages(\"tidytext\")\n",
    "\n",
    "library(tidyverse)\n",
    "library(lubridate)\n",
    "library(stringr)\n",
    "library(forcats)\n",
    "library(tidytext)\n",
    "library(sqldf)\n",
    "library(plotly)\n",
    "library(leaflet)\n",
    "library(leaflet.extras)\n",
    "library(ggplot2)\n",
    "library(wordcloud2)\n",
    "library(tm)"
   ]
  },
  {
   "cell_type": "code",
   "execution_count": 3,
   "id": "77740ecb",
   "metadata": {},
   "outputs": [],
   "source": [
    "dataset = read.csv(\"C:/Users/Utilisateur/Documents/school SI4/data-valorization/archive (1)/Hotel_Reviews.csv\")"
   ]
  },
  {
   "cell_type": "code",
   "execution_count": null,
   "id": "660d102d",
   "metadata": {},
   "outputs": [],
   "source": [
    "#################################################################################################\n",
    "dataset = read.csv(\"C:/Users/Utilisateur/Documents/school SI4/data-valorization/archive (1)/Hotel_Reviews.csv\")\n",
    "\n",
    "################################################################################################\n",
    "# check for if any null values are present in which columns\n",
    "sapply(dataset, function(x)sum(is.na(x)))\n",
    "\n",
    "##################################################################################################\n",
    "head(summary(as.factor(dataset$Reviewer_Nationality)), n = 1) # getting top Nationality for na's\n",
    "\n",
    "##################################################################################################\n",
    "# can only run once without getting lat & lng errors!\n",
    "dataset <- dataset %>%\n",
    "  select(colnames(dataset), -lat,-lng, -Review_Total_Negative_Word_Counts, -Review_Total_Positive_Word_Counts, -Additional_Number_of_Scoring) %>%\n",
    "  mutate(Positive_Review = ifelse(is.na(Positive_Review),\n",
    "                                  \"Nothing\",\n",
    "                                  Positive_Review)) %>%\n",
    "  mutate(Negative_Review = ifelse(is.na(Negative_Review),\n",
    "                                  \"Nothing\",\n",
    "                                  Negative_Review))\n",
    "sapply(dataset, function(x)sum(is.na(x)))\n",
    "# good no more NAs!\n",
    "####################################################################################################\n",
    "\n",
    "dataset <- dataset %>%\n",
    "  mutate(Review_Date = lubridate::mdy(Review_Date))\n",
    "#summary(df)\n",
    "# Time Series Analysis\n",
    "# is the score dependent on time of year?\n",
    "dataset <- dataset %>%\n",
    "  mutate(Year = year(Review_Date)) %>%\n",
    "  mutate(Month = month(Review_Date))\n",
    "# credit to fellow kaggle user, GunnvantSaini\n",
    "dataset <- dataset %>%\n",
    "  mutate(Country = sapply(str_split(Hotel_Address,\" \"),function(x){x[length(x)]}))\n",
    "######################################################################################################\n",
    "\n",
    "# subsetting out lengthy columns, keeping hotel address and review data if\n",
    "# needed to join\n",
    "dataset_nlp <- dataset %>%\n",
    "  select(Hotel_Name, Country, Review_Date, Year, Month,\n",
    "         Total_Number_of_Reviews_Reviewer_Has_Given, Negative_Review, Reviewer_Nationality,\n",
    "         Positive_Review,Total_Number_of_Reviews_Reviewer_Has_Given, Tags, Reviewer_Score)\n",
    "dataset_clean <- dataset %>%\n",
    "  select(Hotel_Name, Country, Review_Date, Year, Month, Average_Score,\n",
    "         Reviewer_Nationality,Reviewer_Score,Total_Number_of_Reviews_Reviewer_Has_Given, Negative_Review,\n",
    "         Positive_Review)\n",
    "print(\"Our dataset cleaned:\" )\n",
    "head(dataset_clean)\n",
    "print(\"First column of NLP:\" )\n",
    "head(dataset_nlp, n = 1)\n",
    "#########################################################################################################\n",
    "\n",
    "#plot_world_cloud\n",
    "reviews <- dataset_clean[sample(nrow(dataset_clean), 40000), ]\n",
    "reviews <- reviews[reviews$Positive_Review!='Nothing',]\n",
    "reviews <- reviews[reviews$Negative_Review!='Nothing',]\n",
    "term_freq <- function(dataset_clean,sent){\n",
    "  if(sent=='pos'){\n",
    "    corpus <- Corpus(VectorSource(dataset_clean$Positive_Review))\n",
    "  }else{\n",
    "    corpus <- Corpus(VectorSource(dataset_clean$Negative_Review))\n",
    "  }\n",
    "  corpus <- tm_map(corpus, removeWords, stopwords(\"SMART\"))\n",
    "  corpus <- tm_map(corpus, removeWords, stopwords(\"en\"))\n",
    "  corpus <- tm_map(corpus, stripWhitespace)\n",
    "  dtm <-TermDocumentMatrix(corpus)\n",
    "  mat_dtm <- as.matrix(dtm)\n",
    "  v_dtm <- sort(rowSums(mat_dtm),decreasing = TRUE)\n",
    "  FreqMat <- data.frame(word = names(v_dtm), Freq = v_dtm)\n",
    "  FreqMat <- FreqMat[1:50,]\n",
    "  return(FreqMat)\n",
    "}\n",
    "wordcloud2(data = term_freq(reviews,'pos'),minRotation = 0,maxRotation = 0)\n",
    "##############################################################################################\n",
    "\n",
    "wordcloud2(data = term_freq(reviews,'neg'),minRotation = 0,maxRotation = 0)\n",
    "###################################################################################################\n",
    "\n"
   ]
  }
 ],
 "metadata": {
  "kernelspec": {
   "display_name": "R",
   "language": "R",
   "name": "ir"
  },
  "language_info": {
   "codemirror_mode": "r",
   "file_extension": ".r",
   "mimetype": "text/x-r-source",
   "name": "R",
   "pygments_lexer": "r",
   "version": "4.1.2"
  }
 },
 "nbformat": 4,
 "nbformat_minor": 5
}
